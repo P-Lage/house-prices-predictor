{
 "cells": [
  {
   "cell_type": "code",
   "id": "initial_id",
   "metadata": {
    "collapsed": true,
    "ExecuteTime": {
     "end_time": "2025-04-18T15:37:45.760556Z",
     "start_time": "2025-04-18T15:37:45.742751Z"
    }
   },
   "source": [
    "import pandas as pd\n",
    "from sklearn.linear_model import LinearRegression, Ridge, Lasso\n",
    "from sklearn.ensemble import RandomForestRegressor\n",
    "from sklearn.metrics import mean_squared_error, r2_score\n",
    "from sklearn.model_selection import train_test_split\n",
    "from sklearn.preprocessing import StandardScaler\n",
    "from sklearn.impute import SimpleImputer\n",
    "import numpy as np"
   ],
   "outputs": [],
   "execution_count": 4
  },
  {
   "metadata": {},
   "cell_type": "markdown",
   "source": "# Carregar dados brutos novamente para garantir consistência",
   "id": "ae950f3ae6251251"
  },
  {
   "metadata": {
    "ExecuteTime": {
     "end_time": "2025-04-18T15:38:46.507883Z",
     "start_time": "2025-04-18T15:38:46.469635Z"
    }
   },
   "cell_type": "code",
   "source": "data = pd.read_csv('../data/raw/train.csv')",
   "id": "df7b7ff957d4ede1",
   "outputs": [],
   "execution_count": 5
  },
  {
   "metadata": {},
   "cell_type": "markdown",
   "source": "# Selecionar features",
   "id": "522a95e438c4c65d"
  },
  {
   "metadata": {
    "ExecuteTime": {
     "end_time": "2025-04-18T15:39:18.840502Z",
     "start_time": "2025-04-18T15:39:18.822692Z"
    }
   },
   "cell_type": "code",
   "source": [
    "features = ['GrLivArea', 'OverallQual', 'YearBuilt', 'GarageCars', 'TotalBsmtSF']\n",
    "X = data[features]\n",
    "y = data['SalePrice']"
   ],
   "id": "457f9c5f9623a544",
   "outputs": [],
   "execution_count": 6
  },
  {
   "metadata": {},
   "cell_type": "markdown",
   "source": "# Pré-processamento",
   "id": "c34fc1c6a059361e"
  },
  {
   "metadata": {
    "ExecuteTime": {
     "end_time": "2025-04-18T15:39:47.747604Z",
     "start_time": "2025-04-18T15:39:47.719941Z"
    }
   },
   "cell_type": "code",
   "source": [
    "imputer = SimpleImputer(strategy='median')\n",
    "X_imputed = imputer.fit_transform(X)\n",
    "\n",
    "scaler = StandardScaler()\n",
    "X_scaled = scaler.fit_transform(X_imputed)\n",
    "\n",
    "X_train, X_test, y_train, y_test = train_test_split(X_scaled, y, test_size=0.2, random_state=42)"
   ],
   "id": "930351c9f400116",
   "outputs": [],
   "execution_count": 7
  },
  {
   "metadata": {},
   "cell_type": "markdown",
   "source": "# Treinar modelos",
   "id": "7b8a09112e5978f8"
  },
  {
   "metadata": {
    "ExecuteTime": {
     "end_time": "2025-04-18T15:40:04.939094Z",
     "start_time": "2025-04-18T15:40:04.660749Z"
    }
   },
   "cell_type": "code",
   "source": [
    "models = {\n",
    "    'LinearRegression': LinearRegression(),\n",
    "    'Ridge': Ridge(alpha=1.0),\n",
    "    'Lasso': Lasso(alpha=0.1),\n",
    "    'RandomForest': RandomForestRegressor(n_estimators=100, random_state=42)\n",
    "}\n",
    "\n",
    "for name, model in models.items():\n",
    "    model.fit(X_train, y_train)\n",
    "    preds = model.predict(X_test)\n",
    "    rmse = np.sqrt(mean_squared_error(y_test, preds))\n",
    "    r2 = r2_score(y_test, preds)\n",
    "    print(f\"{name} -> RMSE: {rmse:.2f} | R²: {r2:.3f}\")"
   ],
   "id": "565d2e51affc1c35",
   "outputs": [
    {
     "name": "stdout",
     "output_type": "stream",
     "text": [
      "LinearRegression -> RMSE: 39763.30 | R²: 0.794\n",
      "Ridge -> RMSE: 39767.67 | R²: 0.794\n",
      "Lasso -> RMSE: 39763.32 | R²: 0.794\n",
      "RandomForest -> RMSE: 28863.31 | R²: 0.891\n"
     ]
    }
   ],
   "execution_count": 8
  }
 ],
 "metadata": {
  "kernelspec": {
   "display_name": "Python 3",
   "language": "python",
   "name": "python3"
  },
  "language_info": {
   "codemirror_mode": {
    "name": "ipython",
    "version": 2
   },
   "file_extension": ".py",
   "mimetype": "text/x-python",
   "name": "python",
   "nbconvert_exporter": "python",
   "pygments_lexer": "ipython2",
   "version": "2.7.6"
  }
 },
 "nbformat": 4,
 "nbformat_minor": 5
}
