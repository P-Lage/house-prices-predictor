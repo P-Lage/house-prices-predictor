{
 "cells": [
  {
   "metadata": {},
   "cell_type": "markdown",
   "source": "# Pré-processamento dos Dados",
   "id": "c5fa48e1ced2d371"
  },
  {
   "cell_type": "code",
   "id": "initial_id",
   "metadata": {
    "collapsed": true,
    "ExecuteTime": {
     "end_time": "2025-04-18T15:32:57.216032Z",
     "start_time": "2025-04-18T15:32:57.046593Z"
    }
   },
   "source": [
    "import pandas as pd\n",
    "from sklearn.model_selection import train_test_split\n",
    "from sklearn.preprocessing import StandardScaler\n",
    "from sklearn.impute import SimpleImputer"
   ],
   "outputs": [],
   "execution_count": 1
  },
  {
   "metadata": {},
   "cell_type": "markdown",
   "source": "# Carregar os dados",
   "id": "5141ec213eb4344"
  },
  {
   "metadata": {
    "ExecuteTime": {
     "end_time": "2025-04-18T15:33:14.574243Z",
     "start_time": "2025-04-18T15:33:14.538215Z"
    }
   },
   "cell_type": "code",
   "source": "train = pd.read_csv('../data/raw/train.csv')",
   "id": "264621fe664b8206",
   "outputs": [],
   "execution_count": 2
  },
  {
   "metadata": {},
   "cell_type": "markdown",
   "source": "#  Selecionar features com base na EDA",
   "id": "7893fc90b4b7e3ad"
  },
  {
   "metadata": {
    "ExecuteTime": {
     "end_time": "2025-04-18T15:33:33.583269Z",
     "start_time": "2025-04-18T15:33:33.564761Z"
    }
   },
   "cell_type": "code",
   "source": [
    "features = ['GrLivArea', 'OverallQual', 'YearBuilt', 'GarageCars', 'TotalBsmtSF']\n",
    "X = train[features]\n",
    "y = train['SalePrice']"
   ],
   "id": "928e6765181fee44",
   "outputs": [],
   "execution_count": 3
  },
  {
   "metadata": {},
   "cell_type": "markdown",
   "source": "# Tratar valores ausentes",
   "id": "9c30b73160fd4e78"
  },
  {
   "metadata": {
    "ExecuteTime": {
     "end_time": "2025-04-18T15:34:03.615293Z",
     "start_time": "2025-04-18T15:34:03.570298Z"
    }
   },
   "cell_type": "code",
   "source": [
    "imputer = SimpleImputer(strategy='median')\n",
    "X_imputed = imputer.fit_transform(X)"
   ],
   "id": "28cd7cb485208c87",
   "outputs": [],
   "execution_count": 4
  },
  {
   "metadata": {},
   "cell_type": "markdown",
   "source": "# Escalonar os dados",
   "id": "448d064447be35a0"
  },
  {
   "metadata": {
    "ExecuteTime": {
     "end_time": "2025-04-18T15:34:23.131203Z",
     "start_time": "2025-04-18T15:34:23.100648Z"
    }
   },
   "cell_type": "code",
   "source": [
    "scaler = StandardScaler()\n",
    "X_scaled = scaler.fit_transform(X_imputed)"
   ],
   "id": "69d15f4ae03bf477",
   "outputs": [],
   "execution_count": 5
  },
  {
   "metadata": {},
   "cell_type": "markdown",
   "source": "# Dividir os dados",
   "id": "be89158dee468696"
  },
  {
   "metadata": {
    "ExecuteTime": {
     "end_time": "2025-04-18T15:34:44.850074Z",
     "start_time": "2025-04-18T15:34:44.832495Z"
    }
   },
   "cell_type": "code",
   "source": "X_train, X_test, y_train, y_test = train_test_split(X_scaled, y, test_size=0.2, random_state=42)",
   "id": "1c05adba7fc3daf6",
   "outputs": [],
   "execution_count": 6
  },
  {
   "metadata": {},
   "cell_type": "markdown",
   "source": "# Salvar conjunto processado",
   "id": "77aa40192faf08a2"
  },
  {
   "metadata": {
    "ExecuteTime": {
     "end_time": "2025-04-18T15:35:01.556071Z",
     "start_time": "2025-04-18T15:35:01.490374Z"
    }
   },
   "cell_type": "code",
   "source": "pd.DataFrame(X_train, columns=features).to_csv('../data/processed/X_train.csv', index=False)",
   "id": "22ac344cb3529458",
   "outputs": [],
   "execution_count": 7
  },
  {
   "metadata": {},
   "cell_type": "code",
   "outputs": [],
   "execution_count": null,
   "source": "",
   "id": "34e2e5ec774bf00e"
  }
 ],
 "metadata": {
  "kernelspec": {
   "display_name": "Python 3",
   "language": "python",
   "name": "python3"
  },
  "language_info": {
   "codemirror_mode": {
    "name": "ipython",
    "version": 2
   },
   "file_extension": ".py",
   "mimetype": "text/x-python",
   "name": "python",
   "nbconvert_exporter": "python",
   "pygments_lexer": "ipython2",
   "version": "2.7.6"
  }
 },
 "nbformat": 4,
 "nbformat_minor": 5
}
